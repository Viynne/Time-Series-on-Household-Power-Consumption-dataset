{
 "cells": [
  {
   "cell_type": "code",
   "execution_count": 2,
   "metadata": {},
   "outputs": [],
   "source": [
    "import numpy\n",
    "import pandas as pd\n",
    "from sklearn.metrics import mean_squared_error\n",
    "from tensorflow import keras\n",
    "import matplotlib.pyplot as plt\n",
    "from typing import Tuple, List"
   ]
  },
  {
   "cell_type": "code",
   "execution_count": 3,
   "metadata": {},
   "outputs": [
    {
     "data": {
      "text/html": [
       "<div>\n",
       "<style scoped>\n",
       "    .dataframe tbody tr th:only-of-type {\n",
       "        vertical-align: middle;\n",
       "    }\n",
       "\n",
       "    .dataframe tbody tr th {\n",
       "        vertical-align: top;\n",
       "    }\n",
       "\n",
       "    .dataframe thead th {\n",
       "        text-align: right;\n",
       "    }\n",
       "</style>\n",
       "<table border=\"1\" class=\"dataframe\">\n",
       "  <thead>\n",
       "    <tr style=\"text-align: right;\">\n",
       "      <th></th>\n",
       "      <th>Global_active_power</th>\n",
       "      <th>Global_reactive_power</th>\n",
       "      <th>Voltage</th>\n",
       "      <th>Global_intensity</th>\n",
       "      <th>Sub_metering_1</th>\n",
       "      <th>Sub_metering_2</th>\n",
       "      <th>Sub_metering_3</th>\n",
       "      <th>Sub_metering_4</th>\n",
       "    </tr>\n",
       "    <tr>\n",
       "      <th>datetime</th>\n",
       "      <th></th>\n",
       "      <th></th>\n",
       "      <th></th>\n",
       "      <th></th>\n",
       "      <th></th>\n",
       "      <th></th>\n",
       "      <th></th>\n",
       "      <th></th>\n",
       "    </tr>\n",
       "  </thead>\n",
       "  <tbody>\n",
       "    <tr>\n",
       "      <th>2006-12-16</th>\n",
       "      <td>1209.176</td>\n",
       "      <td>34.922</td>\n",
       "      <td>93552.53</td>\n",
       "      <td>5180.8</td>\n",
       "      <td>0.0</td>\n",
       "      <td>546.0</td>\n",
       "      <td>4926.0</td>\n",
       "      <td>14680.934</td>\n",
       "    </tr>\n",
       "    <tr>\n",
       "      <th>2006-12-17</th>\n",
       "      <td>3390.460</td>\n",
       "      <td>226.006</td>\n",
       "      <td>345725.30</td>\n",
       "      <td>14398.6</td>\n",
       "      <td>2033.0</td>\n",
       "      <td>4187.0</td>\n",
       "      <td>13341.0</td>\n",
       "      <td>36946.668</td>\n",
       "    </tr>\n",
       "    <tr>\n",
       "      <th>2006-12-18</th>\n",
       "      <td>2203.826</td>\n",
       "      <td>161.792</td>\n",
       "      <td>347373.62</td>\n",
       "      <td>9247.2</td>\n",
       "      <td>1063.0</td>\n",
       "      <td>2621.0</td>\n",
       "      <td>14018.0</td>\n",
       "      <td>19028.434</td>\n",
       "    </tr>\n",
       "    <tr>\n",
       "      <th>2006-12-19</th>\n",
       "      <td>1666.194</td>\n",
       "      <td>150.942</td>\n",
       "      <td>348479.00</td>\n",
       "      <td>7094.0</td>\n",
       "      <td>839.0</td>\n",
       "      <td>7602.0</td>\n",
       "      <td>6197.0</td>\n",
       "      <td>13131.900</td>\n",
       "    </tr>\n",
       "    <tr>\n",
       "      <th>2006-12-20</th>\n",
       "      <td>2225.748</td>\n",
       "      <td>160.998</td>\n",
       "      <td>348923.62</td>\n",
       "      <td>9313.0</td>\n",
       "      <td>0.0</td>\n",
       "      <td>2648.0</td>\n",
       "      <td>14063.0</td>\n",
       "      <td>20384.800</td>\n",
       "    </tr>\n",
       "  </tbody>\n",
       "</table>\n",
       "</div>"
      ],
      "text/plain": [
       "            Global_active_power  Global_reactive_power    Voltage  \\\n",
       "datetime                                                            \n",
       "2006-12-16             1209.176                 34.922   93552.53   \n",
       "2006-12-17             3390.460                226.006  345725.30   \n",
       "2006-12-18             2203.826                161.792  347373.62   \n",
       "2006-12-19             1666.194                150.942  348479.00   \n",
       "2006-12-20             2225.748                160.998  348923.62   \n",
       "\n",
       "            Global_intensity  Sub_metering_1  Sub_metering_2  Sub_metering_3  \\\n",
       "datetime                                                                       \n",
       "2006-12-16            5180.8             0.0           546.0          4926.0   \n",
       "2006-12-17           14398.6          2033.0          4187.0         13341.0   \n",
       "2006-12-18            9247.2          1063.0          2621.0         14018.0   \n",
       "2006-12-19            7094.0           839.0          7602.0          6197.0   \n",
       "2006-12-20            9313.0             0.0          2648.0         14063.0   \n",
       "\n",
       "            Sub_metering_4  \n",
       "datetime                    \n",
       "2006-12-16       14680.934  \n",
       "2006-12-17       36946.668  \n",
       "2006-12-18       19028.434  \n",
       "2006-12-19       13131.900  \n",
       "2006-12-20       20384.800  "
      ]
     },
     "execution_count": 3,
     "metadata": {},
     "output_type": "execute_result"
    }
   ],
   "source": [
    "df = pd.read_csv(\"./data/household_power_consumption_daily.csv\", parse_dates=True, index_col=0)\n",
    "df.head()"
   ]
  },
  {
   "cell_type": "code",
   "execution_count": 4,
   "metadata": {},
   "outputs": [],
   "source": [
    "def split_data(data: numpy) -> Tuple[numpy.array, numpy.array]:\n",
    "    train, test = data[1: -328], data[-328:-6]\n",
    "    train = numpy.array(numpy.split(train, len(train)/7))\n",
    "    test = numpy.array(numpy.split(test, len(test)/7))\n",
    "    return train, test"
   ]
  },
  {
   "cell_type": "code",
   "execution_count": 5,
   "metadata": {},
   "outputs": [
    {
     "data": {
      "text/plain": [
       "((159, 7, 8), (46, 7, 8))"
      ]
     },
     "execution_count": 5,
     "metadata": {},
     "output_type": "execute_result"
    }
   ],
   "source": [
    "train, test = split_data(df.values)\n",
    "train.shape, test.shape"
   ]
  },
  {
   "cell_type": "code",
   "execution_count": 6,
   "metadata": {},
   "outputs": [],
   "source": [
    "def reshape_nn_input(x: numpy, n_input: int, n_output):\n",
    "    data = x.reshape((x.shape[0] * x.shape[1], x.shape[2]))\n",
    "    X, y = list(), list()\n",
    "    first_index = 0\n",
    "    for _ in range(len(data)):\n",
    "        in_len = first_index + n_input\n",
    "        target_len = in_len + n_output\n",
    "        if target_len <= len(data):\n",
    "            x_input = data[first_index:in_len, 0]\n",
    "            x_input = x_input.reshape((len(x_input), 1))\n",
    "            X.append(x_input)\n",
    "            y.append(data[in_len:target_len, 0])\n",
    "        first_index += 1\n",
    "    return numpy.array(X), numpy.array(y)"
   ]
  },
  {
   "cell_type": "code",
   "execution_count": 7,
   "metadata": {},
   "outputs": [
    {
     "data": {
      "text/plain": [
       "((1100, 7, 1), (1100, 7))"
      ]
     },
     "execution_count": 7,
     "metadata": {},
     "output_type": "execute_result"
    }
   ],
   "source": [
    "x_train, y_train = reshape_nn_input(x=train, n_input=7, n_output=7)\n",
    "x_train.shape, y_train.shape"
   ]
  },
  {
   "cell_type": "code",
   "execution_count": 8,
   "metadata": {},
   "outputs": [],
   "source": [
    "def lstm_model(x: numpy, y: numpy):\n",
    "    timestamps, features, num_outputs = x.shape[1], x.shape[2], y.shape[1]\n",
    "    model = keras.Sequential()\n",
    "    model.add(keras.layers.LSTM(100, activation='relu', input_shape=(timestamps, features)))\n",
    "    model.add(keras.layers.Dense(50, activation=keras.activations.relu))\n",
    "    model.add(keras.layers.Dense(num_outputs))\n",
    "\n",
    "    model.compile(\n",
    "        loss=keras.losses.mean_squared_error,\n",
    "        optimizer=keras.optimizers.Adam()\n",
    "    )\n",
    "    history = model.fit(x, y, epochs=70, batch_size=16, verbose=2)\n",
    "    return history, model"
   ]
  },
  {
   "cell_type": "code",
   "execution_count": 9,
   "metadata": {},
   "outputs": [
    {
     "name": "stderr",
     "output_type": "stream",
     "text": [
      "2023-01-05 15:58:14.844941: W tensorflow/stream_executor/platform/default/dso_loader.cc:64] Could not load dynamic library 'libcuda.so.1'; dlerror: libcuda.so.1: cannot open shared object file: No such file or directory\n",
      "2023-01-05 15:58:14.844965: W tensorflow/stream_executor/cuda/cuda_driver.cc:263] failed call to cuInit: UNKNOWN ERROR (303)\n",
      "2023-01-05 15:58:14.844985: I tensorflow/stream_executor/cuda/cuda_diagnostics.cc:156] kernel driver does not appear to be running on this host (vhyne): /proc/driver/nvidia/version does not exist\n",
      "2023-01-05 15:58:14.845268: I tensorflow/core/platform/cpu_feature_guard.cc:193] This TensorFlow binary is optimized with oneAPI Deep Neural Network Library (oneDNN) to use the following CPU instructions in performance-critical operations:  AVX2 FMA\n",
      "To enable them in other operations, rebuild TensorFlow with the appropriate compiler flags.\n"
     ]
    },
    {
     "name": "stdout",
     "output_type": "stream",
     "text": [
      "Epoch 1/70\n",
      "69/69 - 1s - loss: 1371273.1250 - 1s/epoch - 20ms/step\n",
      "Epoch 2/70\n",
      "69/69 - 0s - loss: 273727.9375 - 237ms/epoch - 3ms/step\n",
      "Epoch 3/70\n",
      "69/69 - 0s - loss: 269514.7812 - 251ms/epoch - 4ms/step\n",
      "Epoch 4/70\n",
      "69/69 - 0s - loss: 272039.4375 - 229ms/epoch - 3ms/step\n",
      "Epoch 5/70\n",
      "69/69 - 0s - loss: 267780.6250 - 230ms/epoch - 3ms/step\n",
      "Epoch 6/70\n",
      "69/69 - 0s - loss: 266936.9375 - 226ms/epoch - 3ms/step\n",
      "Epoch 7/70\n",
      "69/69 - 0s - loss: 268276.1562 - 227ms/epoch - 3ms/step\n",
      "Epoch 8/70\n",
      "69/69 - 0s - loss: 262788.0312 - 238ms/epoch - 3ms/step\n",
      "Epoch 9/70\n",
      "69/69 - 0s - loss: 266818.5938 - 240ms/epoch - 3ms/step\n",
      "Epoch 10/70\n",
      "69/69 - 0s - loss: 261956.8281 - 227ms/epoch - 3ms/step\n",
      "Epoch 11/70\n",
      "69/69 - 0s - loss: 263302.3750 - 228ms/epoch - 3ms/step\n",
      "Epoch 12/70\n",
      "69/69 - 0s - loss: 256324.7344 - 233ms/epoch - 3ms/step\n",
      "Epoch 13/70\n",
      "69/69 - 0s - loss: 258962.0625 - 266ms/epoch - 4ms/step\n",
      "Epoch 14/70\n",
      "69/69 - 0s - loss: 262315.9688 - 225ms/epoch - 3ms/step\n",
      "Epoch 15/70\n",
      "69/69 - 0s - loss: 259053.0000 - 223ms/epoch - 3ms/step\n",
      "Epoch 16/70\n",
      "69/69 - 0s - loss: 255328.0625 - 216ms/epoch - 3ms/step\n",
      "Epoch 17/70\n",
      "69/69 - 0s - loss: 258762.0938 - 235ms/epoch - 3ms/step\n",
      "Epoch 18/70\n",
      "69/69 - 0s - loss: 257732.8281 - 216ms/epoch - 3ms/step\n",
      "Epoch 19/70\n",
      "69/69 - 0s - loss: 258541.0625 - 221ms/epoch - 3ms/step\n",
      "Epoch 20/70\n",
      "69/69 - 0s - loss: 260274.5312 - 222ms/epoch - 3ms/step\n",
      "Epoch 21/70\n",
      "69/69 - 0s - loss: 256685.1719 - 229ms/epoch - 3ms/step\n",
      "Epoch 22/70\n",
      "69/69 - 0s - loss: 254313.0781 - 234ms/epoch - 3ms/step\n",
      "Epoch 23/70\n",
      "69/69 - 0s - loss: 254063.8594 - 223ms/epoch - 3ms/step\n",
      "Epoch 24/70\n",
      "69/69 - 0s - loss: 255603.2031 - 227ms/epoch - 3ms/step\n",
      "Epoch 25/70\n",
      "69/69 - 0s - loss: 255685.2969 - 228ms/epoch - 3ms/step\n",
      "Epoch 26/70\n",
      "69/69 - 0s - loss: 252687.0469 - 229ms/epoch - 3ms/step\n",
      "Epoch 27/70\n",
      "69/69 - 0s - loss: 256853.2344 - 220ms/epoch - 3ms/step\n",
      "Epoch 28/70\n",
      "69/69 - 0s - loss: 256847.0625 - 249ms/epoch - 4ms/step\n",
      "Epoch 29/70\n",
      "69/69 - 0s - loss: 251574.2188 - 217ms/epoch - 3ms/step\n",
      "Epoch 30/70\n",
      "69/69 - 0s - loss: 252749.3750 - 220ms/epoch - 3ms/step\n",
      "Epoch 31/70\n",
      "69/69 - 0s - loss: 252388.9688 - 233ms/epoch - 3ms/step\n",
      "Epoch 32/70\n",
      "69/69 - 0s - loss: 252359.3281 - 218ms/epoch - 3ms/step\n",
      "Epoch 33/70\n",
      "69/69 - 0s - loss: 252028.5625 - 218ms/epoch - 3ms/step\n",
      "Epoch 34/70\n",
      "69/69 - 0s - loss: 254283.0312 - 228ms/epoch - 3ms/step\n",
      "Epoch 35/70\n",
      "69/69 - 0s - loss: 253219.8750 - 223ms/epoch - 3ms/step\n",
      "Epoch 36/70\n",
      "69/69 - 0s - loss: 249972.1562 - 226ms/epoch - 3ms/step\n",
      "Epoch 37/70\n",
      "69/69 - 0s - loss: 252290.8438 - 219ms/epoch - 3ms/step\n",
      "Epoch 38/70\n",
      "69/69 - 0s - loss: 251815.2188 - 232ms/epoch - 3ms/step\n",
      "Epoch 39/70\n",
      "69/69 - 0s - loss: 252001.3125 - 223ms/epoch - 3ms/step\n",
      "Epoch 40/70\n",
      "69/69 - 0s - loss: 253107.1094 - 225ms/epoch - 3ms/step\n",
      "Epoch 41/70\n",
      "69/69 - 0s - loss: 252816.2344 - 214ms/epoch - 3ms/step\n",
      "Epoch 42/70\n",
      "69/69 - 0s - loss: 254071.3281 - 220ms/epoch - 3ms/step\n",
      "Epoch 43/70\n",
      "69/69 - 0s - loss: 252677.0312 - 215ms/epoch - 3ms/step\n",
      "Epoch 44/70\n",
      "69/69 - 0s - loss: 251103.5312 - 222ms/epoch - 3ms/step\n",
      "Epoch 45/70\n",
      "69/69 - 0s - loss: 250126.1406 - 219ms/epoch - 3ms/step\n",
      "Epoch 46/70\n",
      "69/69 - 0s - loss: 253072.7812 - 225ms/epoch - 3ms/step\n",
      "Epoch 47/70\n",
      "69/69 - 0s - loss: 250823.4219 - 222ms/epoch - 3ms/step\n",
      "Epoch 48/70\n",
      "69/69 - 0s - loss: 250052.7188 - 216ms/epoch - 3ms/step\n",
      "Epoch 49/70\n",
      "69/69 - 0s - loss: 251572.6875 - 232ms/epoch - 3ms/step\n",
      "Epoch 50/70\n",
      "69/69 - 0s - loss: 251059.1719 - 236ms/epoch - 3ms/step\n",
      "Epoch 51/70\n",
      "69/69 - 0s - loss: 249194.3906 - 225ms/epoch - 3ms/step\n",
      "Epoch 52/70\n",
      "69/69 - 0s - loss: 247632.9844 - 228ms/epoch - 3ms/step\n",
      "Epoch 53/70\n",
      "69/69 - 0s - loss: 246306.8438 - 230ms/epoch - 3ms/step\n",
      "Epoch 54/70\n",
      "69/69 - 0s - loss: 247463.7344 - 217ms/epoch - 3ms/step\n",
      "Epoch 55/70\n",
      "69/69 - 0s - loss: 248150.9531 - 229ms/epoch - 3ms/step\n",
      "Epoch 56/70\n",
      "69/69 - 0s - loss: 247021.5781 - 220ms/epoch - 3ms/step\n",
      "Epoch 57/70\n",
      "69/69 - 0s - loss: 246099.6719 - 237ms/epoch - 3ms/step\n",
      "Epoch 58/70\n",
      "69/69 - 0s - loss: 248971.2656 - 220ms/epoch - 3ms/step\n",
      "Epoch 59/70\n",
      "69/69 - 0s - loss: 247102.6562 - 214ms/epoch - 3ms/step\n",
      "Epoch 60/70\n",
      "69/69 - 0s - loss: 244169.8281 - 219ms/epoch - 3ms/step\n",
      "Epoch 61/70\n",
      "69/69 - 0s - loss: 243543.4688 - 231ms/epoch - 3ms/step\n",
      "Epoch 62/70\n",
      "69/69 - 0s - loss: 244706.8281 - 224ms/epoch - 3ms/step\n",
      "Epoch 63/70\n",
      "69/69 - 0s - loss: 242180.7656 - 223ms/epoch - 3ms/step\n",
      "Epoch 64/70\n",
      "69/69 - 0s - loss: 242452.4688 - 236ms/epoch - 3ms/step\n",
      "Epoch 65/70\n",
      "69/69 - 0s - loss: 241019.8125 - 229ms/epoch - 3ms/step\n",
      "Epoch 66/70\n",
      "69/69 - 0s - loss: 244579.2812 - 230ms/epoch - 3ms/step\n",
      "Epoch 67/70\n",
      "69/69 - 0s - loss: 242245.3281 - 219ms/epoch - 3ms/step\n",
      "Epoch 68/70\n",
      "69/69 - 0s - loss: 243361.3438 - 220ms/epoch - 3ms/step\n",
      "Epoch 69/70\n",
      "69/69 - 0s - loss: 243439.4219 - 222ms/epoch - 3ms/step\n",
      "Epoch 70/70\n",
      "69/69 - 0s - loss: 242076.7500 - 222ms/epoch - 3ms/step\n"
     ]
    }
   ],
   "source": [
    "history, model = lstm_model(x_train, y_train)"
   ]
  },
  {
   "cell_type": "code",
   "execution_count": 15,
   "metadata": {},
   "outputs": [],
   "source": [
    "def model_prediction(model, x: numpy, n_inputs=7):\n",
    "    # data = x.reshape((x.shape[0] * x.shape[1], x.shape[2]))\n",
    "    # print(data.shape)\n",
    "\n",
    "    last_week = x[-1:][:,:,0]\n",
    "    print(last_week.shape)\n",
    "    last_week = last_week.reshape((1, last_week.shape[1], 1))\n",
    "\n",
    "    yhat = model.predict(last_week, verbose=1)\n",
    "\n",
    "    return yhat"
   ]
  },
  {
   "cell_type": "code",
   "execution_count": 16,
   "metadata": {},
   "outputs": [
    {
     "data": {
      "text/plain": [
       "array([[[2.1954520e+03, 2.0716400e+02, 3.4943910e+05, 9.1652000e+03,\n",
       "         4.2180000e+03, 3.1800000e+02, 1.2450000e+04, 1.9604867e+04],\n",
       "        [2.0940980e+03, 1.8166800e+02, 3.5103975e+05, 8.6880000e+03,\n",
       "         2.1750000e+03, 2.0630000e+03, 1.4934000e+04, 1.5729633e+04],\n",
       "        [2.0479680e+03, 2.4205000e+02, 3.5018353e+05, 8.5142000e+03,\n",
       "         1.2600000e+03, 3.4600000e+02, 1.0205000e+04, 2.2321800e+04],\n",
       "        [2.4511100e+03, 2.6679400e+02, 3.4711522e+05, 1.0322600e+04,\n",
       "         5.2840000e+03, 4.5390000e+03, 1.2484000e+04, 1.8544834e+04],\n",
       "        [2.2118920e+03, 1.8661200e+02, 3.4698070e+05, 9.2184000e+03,\n",
       "         0.0000000e+00, 3.8700000e+02, 1.9409000e+04, 1.7068867e+04],\n",
       "        [1.2242520e+03, 1.6533600e+02, 3.4929462e+05, 5.0934000e+03,\n",
       "         2.3040000e+03, 3.2700000e+02, 3.5580000e+03, 1.4215200e+04],\n",
       "        [1.3092680e+03, 1.9954600e+02, 3.5233284e+05, 5.4898000e+03,\n",
       "         8.0100000e+02, 2.9800000e+02, 6.4250000e+03, 1.4297134e+04]]])"
      ]
     },
     "execution_count": 16,
     "metadata": {},
     "output_type": "execute_result"
    }
   ],
   "source": [
    "train[-1:]"
   ]
  },
  {
   "cell_type": "code",
   "execution_count": 17,
   "metadata": {},
   "outputs": [
    {
     "data": {
      "text/plain": [
       "(1, 7)"
      ]
     },
     "execution_count": 17,
     "metadata": {},
     "output_type": "execute_result"
    }
   ],
   "source": [
    "train[-1:][:,:,0].shape"
   ]
  },
  {
   "cell_type": "code",
   "execution_count": 18,
   "metadata": {},
   "outputs": [
    {
     "name": "stdout",
     "output_type": "stream",
     "text": [
      "(1, 7)\n",
      "1/1 [==============================] - 0s 224ms/step\n"
     ]
    }
   ],
   "source": [
    "yhat = model_prediction(model=model, x=train)"
   ]
  },
  {
   "cell_type": "code",
   "execution_count": 19,
   "metadata": {},
   "outputs": [],
   "source": [
    "def flatten_shape(array: numpy):\n",
    "    array_multiplication = array.shape[0] * array.shape[1]\n",
    "    return numpy.reshape(array, (array_multiplication,))"
   ]
  },
  {
   "cell_type": "code",
   "execution_count": 20,
   "metadata": {},
   "outputs": [],
   "source": [
    "yhat_values = flatten_shape(yhat)"
   ]
  },
  {
   "cell_type": "code",
   "execution_count": 21,
   "metadata": {},
   "outputs": [
    {
     "data": {
      "image/png": "[encoded data removed]",
      "text/plain": [
       "<Figure size 640x480 with 1 Axes>"
      ]
     },
     "metadata": {},
     "output_type": "display_data"
    }
   ],
   "source": [
    "plt.figure()\n",
    "plt.plot(yhat_values, label=\"Predicted\")\n",
    "plt.plot(test[0][:,0], label=\"Actual\")\n",
    "plt.title(\"CNN Prediction\")\n",
    "plt.legend()\n",
    "plt.show()"
   ]
  },
  {
   "cell_type": "code",
   "execution_count": 22,
   "metadata": {},
   "outputs": [],
   "source": [
    "def rmse_evaluation(actual: numpy, predicted: numpy):\n",
    "    scores = list()\n",
    "\n",
    "    for i in range(actual.shape[1]):\n",
    "        rmse = numpy.sqrt(mean_squared_error(actual[:, i], predicted[:, i]))\n",
    "        scores.append(rmse)\n",
    "    s = 0\n",
    "    for row in range(actual.shape[0]):\n",
    "        for col in range(actual.shape[1]):\n",
    "            s += (actual[row, col] - predicted[row, col])**2\n",
    "    score = numpy.sqrt(s/(actual.shape[0] * actual.shape[1]))\n",
    "    return score, scores\n",
    "\n",
    "def evaluate_model(model, train, test):\n",
    "    history = [obs for obs in train]\n",
    "    predictions = list()\n",
    "\n",
    "    for v in range(len(test)):\n",
    "        yhat = model_prediction(model=model, x=history)\n",
    "        predictions.append(yhat)\n",
    "        history.append(test[v, :])\n",
    "    predictions = numpy.array(predictions)\n",
    "    predictions = predictions.reshape((46,7))\n",
    "    # return predictions\n",
    "    score, scores = rmse_evaluation(test[:,:,0], predictions)\n",
    "    return score, scores\n",
    "\n",
    "def sunnarize_scores(name, score, scores):\n",
    "    n_scores = \", \".join([\"%.1f\"%s for s in scores ])\n",
    "    print(\"%s: {%.3f} %s\" % (name, score, n_scores))\n",
    "\n",
    "def model_prediction(model, x: numpy, n_inputs=7):\n",
    "    data = numpy.array(x)\n",
    "    data = data.reshape((data.shape[0] * data.shape[1], data.shape[2]))\n",
    "\n",
    "    last_week = x[-1][:,0]\n",
    "    last_week = last_week.reshape((1, len(last_week), 1))\n",
    "\n",
    "    yhat = model.predict(last_week, verbose=0)\n",
    "\n",
    "    return yhat"
   ]
  },
  {
   "cell_type": "code",
   "execution_count": 23,
   "metadata": {},
   "outputs": [
    {
     "name": "stdout",
     "output_type": "stream",
     "text": [
      "LSTM: {401.541} 402.2, 428.2, 393.0, 378.9, 403.5, 335.7, 458.3\n"
     ]
    },
    {
     "data": {
      "image/png": "[encoded data removed]",
      "text/plain": [
       "<Figure size 640x480 with 1 Axes>"
      ]
     },
     "metadata": {},
     "output_type": "display_data"
    }
   ],
   "source": [
    "days = [\"Sunday\",\"Monday\", \"Tuesday\", \"Wednesday\", \"Thursday\", \"Friday\", \"Saturday\"]\n",
    "score, scores = evaluate_model(model=model, train=train, test=test)\n",
    "sunnarize_scores(\"LSTM\", score,scores)\n",
    "\n",
    "plt.plot(days, scores, marker='o', label=\"LSTM\")\n",
    "plt.legend()\n",
    "plt.show()"
   ]
  },
  {
   "cell_type": "code",
   "execution_count": null,
   "metadata": {},
   "outputs": [],
   "source": []
  }
 ],
 "metadata": {
  "kernelspec": {
   "display_name": "TF-py",
   "language": "python",
   "name": "python3"
  },
  "language_info": {
   "codemirror_mode": {
    "name": "ipython",
    "version": 3
   },
   "file_extension": ".py",
   "mimetype": "text/x-python",
   "name": "python",
   "nbconvert_exporter": "python",
   "pygments_lexer": "ipython3",
   "version": "3.7.15"
  },
  "orig_nbformat": 4,
  "vscode": {
   "interpreter": {
    "hash": "749162cd5602f8c6c87a32afb1ae029f0dd4a32c47c1829538a26e2b8908ffdd"
   }
  }
 },
 "nbformat": 4,
 "nbformat_minor": 2
}
