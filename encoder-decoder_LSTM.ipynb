{
 "cells": [
  {
   "cell_type": "code",
   "execution_count": 2,
   "metadata": {},
   "outputs": [],
   "source": [
    "import numpy\n",
    "import pandas as pd\n",
    "from sklearn.metrics import mean_squared_error\n",
    "from tensorflow import keras\n",
    "import matplotlib.pyplot as plt\n",
    "from typing import Tuple, List"
   ]
  },
  {
   "cell_type": "code",
   "execution_count": 3,
   "metadata": {},
   "outputs": [
    {
     "data": {
      "text/html": [
       "<div>\n",
       "<style scoped>\n",
       "    .dataframe tbody tr th:only-of-type {\n",
       "        vertical-align: middle;\n",
       "    }\n",
       "\n",
       "    .dataframe tbody tr th {\n",
       "        vertical-align: top;\n",
       "    }\n",
       "\n",
       "    .dataframe thead th {\n",
       "        text-align: right;\n",
       "    }\n",
       "</style>\n",
       "<table border=\"1\" class=\"dataframe\">\n",
       "  <thead>\n",
       "    <tr style=\"text-align: right;\">\n",
       "      <th></th>\n",
       "      <th>Global_active_power</th>\n",
       "      <th>Global_reactive_power</th>\n",
       "      <th>Voltage</th>\n",
       "      <th>Global_intensity</th>\n",
       "      <th>Sub_metering_1</th>\n",
       "      <th>Sub_metering_2</th>\n",
       "      <th>Sub_metering_3</th>\n",
       "      <th>Sub_metering_4</th>\n",
       "    </tr>\n",
       "    <tr>\n",
       "      <th>datetime</th>\n",
       "      <th></th>\n",
       "      <th></th>\n",
       "      <th></th>\n",
       "      <th></th>\n",
       "      <th></th>\n",
       "      <th></th>\n",
       "      <th></th>\n",
       "      <th></th>\n",
       "    </tr>\n",
       "  </thead>\n",
       "  <tbody>\n",
       "    <tr>\n",
       "      <th>2006-12-16</th>\n",
       "      <td>1209.176</td>\n",
       "      <td>34.922</td>\n",
       "      <td>93552.53</td>\n",
       "      <td>5180.8</td>\n",
       "      <td>0.0</td>\n",
       "      <td>546.0</td>\n",
       "      <td>4926.0</td>\n",
       "      <td>14680.934</td>\n",
       "    </tr>\n",
       "    <tr>\n",
       "      <th>2006-12-17</th>\n",
       "      <td>3390.460</td>\n",
       "      <td>226.006</td>\n",
       "      <td>345725.30</td>\n",
       "      <td>14398.6</td>\n",
       "      <td>2033.0</td>\n",
       "      <td>4187.0</td>\n",
       "      <td>13341.0</td>\n",
       "      <td>36946.668</td>\n",
       "    </tr>\n",
       "    <tr>\n",
       "      <th>2006-12-18</th>\n",
       "      <td>2203.826</td>\n",
       "      <td>161.792</td>\n",
       "      <td>347373.62</td>\n",
       "      <td>9247.2</td>\n",
       "      <td>1063.0</td>\n",
       "      <td>2621.0</td>\n",
       "      <td>14018.0</td>\n",
       "      <td>19028.434</td>\n",
       "    </tr>\n",
       "    <tr>\n",
       "      <th>2006-12-19</th>\n",
       "      <td>1666.194</td>\n",
       "      <td>150.942</td>\n",
       "      <td>348479.00</td>\n",
       "      <td>7094.0</td>\n",
       "      <td>839.0</td>\n",
       "      <td>7602.0</td>\n",
       "      <td>6197.0</td>\n",
       "      <td>13131.900</td>\n",
       "    </tr>\n",
       "    <tr>\n",
       "      <th>2006-12-20</th>\n",
       "      <td>2225.748</td>\n",
       "      <td>160.998</td>\n",
       "      <td>348923.62</td>\n",
       "      <td>9313.0</td>\n",
       "      <td>0.0</td>\n",
       "      <td>2648.0</td>\n",
       "      <td>14063.0</td>\n",
       "      <td>20384.800</td>\n",
       "    </tr>\n",
       "  </tbody>\n",
       "</table>\n",
       "</div>"
      ],
      "text/plain": [
       "            Global_active_power  Global_reactive_power    Voltage  \\\n",
       "datetime                                                            \n",
       "2006-12-16             1209.176                 34.922   93552.53   \n",
       "2006-12-17             3390.460                226.006  345725.30   \n",
       "2006-12-18             2203.826                161.792  347373.62   \n",
       "2006-12-19             1666.194                150.942  348479.00   \n",
       "2006-12-20             2225.748                160.998  348923.62   \n",
       "\n",
       "            Global_intensity  Sub_metering_1  Sub_metering_2  Sub_metering_3  \\\n",
       "datetime                                                                       \n",
       "2006-12-16            5180.8             0.0           546.0          4926.0   \n",
       "2006-12-17           14398.6          2033.0          4187.0         13341.0   \n",
       "2006-12-18            9247.2          1063.0          2621.0         14018.0   \n",
       "2006-12-19            7094.0           839.0          7602.0          6197.0   \n",
       "2006-12-20            9313.0             0.0          2648.0         14063.0   \n",
       "\n",
       "            Sub_metering_4  \n",
       "datetime                    \n",
       "2006-12-16       14680.934  \n",
       "2006-12-17       36946.668  \n",
       "2006-12-18       19028.434  \n",
       "2006-12-19       13131.900  \n",
       "2006-12-20       20384.800  "
      ]
     },
     "execution_count": 3,
     "metadata": {},
     "output_type": "execute_result"
    }
   ],
   "source": [
    "df = pd.read_csv(\"./data/household_power_consumption_daily.csv\", parse_dates=True, index_col=0)\n",
    "df.head()"
   ]
  },
  {
   "cell_type": "code",
   "execution_count": 4,
   "metadata": {},
   "outputs": [],
   "source": [
    "def split_data(data: numpy) -> Tuple[numpy.array, numpy.array]:\n",
    "    train, test = data[1: -328], data[-328:-6]\n",
    "    train = numpy.array(numpy.split(train, len(train)/7))\n",
    "    test = numpy.array(numpy.split(test, len(test)/7))\n",
    "    return train, test"
   ]
  },
  {
   "cell_type": "code",
   "execution_count": 5,
   "metadata": {},
   "outputs": [
    {
     "data": {
      "text/plain": [
       "((159, 7, 8), (46, 7, 8))"
      ]
     },
     "execution_count": 5,
     "metadata": {},
     "output_type": "execute_result"
    }
   ],
   "source": [
    "train, test = split_data(df.values)\n",
    "train.shape, test.shape"
   ]
  },
  {
   "cell_type": "code",
   "execution_count": 6,
   "metadata": {},
   "outputs": [],
   "source": [
    "def reshape_nn_input(x: numpy, n_input: int, n_output):\n",
    "    data = x.reshape((x.shape[0] * x.shape[1], x.shape[2]))\n",
    "    X, y = list(), list()\n",
    "    first_index = 0\n",
    "    for _ in range(len(data)):\n",
    "        in_len = first_index + n_input\n",
    "        target_len = in_len + n_output\n",
    "        if target_len <= len(data):\n",
    "            x_input = data[first_index:in_len, 0]\n",
    "            x_input = x_input.reshape((len(x_input), 1))\n",
    "            X.append(x_input)\n",
    "            y.append(data[in_len:target_len, 0])\n",
    "        first_index += 1\n",
    "    return numpy.array(X), numpy.array(y)"
   ]
  },
  {
   "cell_type": "code",
   "execution_count": 8,
   "metadata": {},
   "outputs": [
    {
     "data": {
      "text/plain": [
       "((1093, 14, 1), (1093, 7))"
      ]
     },
     "execution_count": 8,
     "metadata": {},
     "output_type": "execute_result"
    }
   ],
   "source": [
    "x_train, y_train = reshape_nn_input(x=train, n_input=14, n_output=7)\n",
    "x_train.shape, y_train.shape"
   ]
  },
  {
   "cell_type": "code",
   "execution_count": 9,
   "metadata": {},
   "outputs": [],
   "source": [
    "y_train = y_train.reshape(y_train.shape[0], y_train.shape[1], 1)"
   ]
  },
  {
   "cell_type": "code",
   "execution_count": 13,
   "metadata": {},
   "outputs": [],
   "source": [
    "def lstm_model(x: numpy, y: numpy):\n",
    "    timestamps, features, num_outputs = x.shape[1], x.shape[2], y.shape[1]\n",
    "    model = keras.Sequential()\n",
    "    model.add(keras.layers.LSTM(100, activation='relu', input_shape=(timestamps, features)))\n",
    "    model.add(keras.layers.RepeatVector(num_outputs))\n",
    "    model.add(keras.layers.LSTM(100, activation='relu', return_sequences=True))\n",
    "    model.add(keras.layers.TimeDistributed(keras.layers.Dense(50, activation=keras.activations.relu)))\n",
    "    model.add(keras.layers.TimeDistributed(keras.layers.Dense(1)))\n",
    "\n",
    "    model.compile(\n",
    "        loss=keras.losses.mean_squared_error,\n",
    "        optimizer=keras.optimizers.Adam()\n",
    "    )\n",
    "    history = model.fit(x, y, epochs=30, batch_size=16, verbose=2)\n",
    "    return history, model"
   ]
  },
  {
   "cell_type": "code",
   "execution_count": 14,
   "metadata": {},
   "outputs": [
    {
     "name": "stdout",
     "output_type": "stream",
     "text": [
      "Epoch 1/30\n",
      "69/69 - 2s - loss: 1309622.7500 - 2s/epoch - 36ms/step\n",
      "Epoch 2/30\n",
      "69/69 - 1s - loss: 447797.0625 - 538ms/epoch - 8ms/step\n",
      "Epoch 3/30\n",
      "69/69 - 1s - loss: 393650.1562 - 516ms/epoch - 7ms/step\n",
      "Epoch 4/30\n",
      "69/69 - 1s - loss: 279987.4375 - 544ms/epoch - 8ms/step\n",
      "Epoch 5/30\n",
      "69/69 - 1s - loss: 257461.1094 - 536ms/epoch - 8ms/step\n",
      "Epoch 6/30\n",
      "69/69 - 1s - loss: 277593.3125 - 553ms/epoch - 8ms/step\n",
      "Epoch 7/30\n",
      "69/69 - 1s - loss: 322177.4062 - 530ms/epoch - 8ms/step\n",
      "Epoch 8/30\n",
      "69/69 - 1s - loss: 290805.5625 - 536ms/epoch - 8ms/step\n",
      "Epoch 9/30\n",
      "69/69 - 1s - loss: 267477.6562 - 651ms/epoch - 9ms/step\n",
      "Epoch 10/30\n",
      "69/69 - 1s - loss: 374908.2500 - 607ms/epoch - 9ms/step\n",
      "Epoch 11/30\n",
      "69/69 - 1s - loss: 359625.0625 - 600ms/epoch - 9ms/step\n",
      "Epoch 12/30\n",
      "69/69 - 1s - loss: 286638.5312 - 590ms/epoch - 9ms/step\n",
      "Epoch 13/30\n",
      "69/69 - 1s - loss: 264492.9375 - 598ms/epoch - 9ms/step\n",
      "Epoch 14/30\n",
      "69/69 - 1s - loss: 258529.5781 - 590ms/epoch - 9ms/step\n",
      "Epoch 15/30\n",
      "69/69 - 1s - loss: 255689.8594 - 589ms/epoch - 9ms/step\n",
      "Epoch 16/30\n",
      "69/69 - 1s - loss: 255870.2188 - 601ms/epoch - 9ms/step\n",
      "Epoch 17/30\n",
      "69/69 - 1s - loss: 254177.7031 - 533ms/epoch - 8ms/step\n",
      "Epoch 18/30\n",
      "69/69 - 1s - loss: 252733.9531 - 537ms/epoch - 8ms/step\n",
      "Epoch 19/30\n",
      "69/69 - 1s - loss: 251498.6562 - 529ms/epoch - 8ms/step\n",
      "Epoch 20/30\n",
      "69/69 - 1s - loss: 251274.3281 - 520ms/epoch - 8ms/step\n",
      "Epoch 21/30\n",
      "69/69 - 1s - loss: 253377.0781 - 520ms/epoch - 8ms/step\n",
      "Epoch 22/30\n",
      "69/69 - 1s - loss: 251788.3594 - 518ms/epoch - 8ms/step\n",
      "Epoch 23/30\n",
      "69/69 - 1s - loss: 252697.2656 - 526ms/epoch - 8ms/step\n",
      "Epoch 24/30\n",
      "69/69 - 1s - loss: 249586.2656 - 517ms/epoch - 7ms/step\n",
      "Epoch 25/30\n",
      "69/69 - 1s - loss: 294160.7500 - 534ms/epoch - 8ms/step\n",
      "Epoch 26/30\n",
      "69/69 - 1s - loss: 289818.9375 - 533ms/epoch - 8ms/step\n",
      "Epoch 27/30\n",
      "69/69 - 1s - loss: 256128.0938 - 528ms/epoch - 8ms/step\n",
      "Epoch 28/30\n",
      "69/69 - 1s - loss: 261088.2031 - 519ms/epoch - 8ms/step\n",
      "Epoch 29/30\n",
      "69/69 - 1s - loss: 274490.4688 - 530ms/epoch - 8ms/step\n",
      "Epoch 30/30\n",
      "69/69 - 1s - loss: 259827.3281 - 523ms/epoch - 8ms/step\n"
     ]
    }
   ],
   "source": [
    "history, model = lstm_model(x_train, y_train)"
   ]
  },
  {
   "cell_type": "code",
   "execution_count": 29,
   "metadata": {},
   "outputs": [],
   "source": [
    "def model_prediction(model, x: numpy, n_inputs=7):\n",
    "\n",
    "    last_week = x[-2:][:,:,0]\n",
    "    print(last_week.shape)\n",
    "    last_week = last_week.reshape((1, last_week.shape[0] * last_week.shape[1], 1))\n",
    "\n",
    "    yhat = model.predict(last_week, verbose=1)\n",
    "\n",
    "    return yhat"
   ]
  },
  {
   "cell_type": "code",
   "execution_count": 30,
   "metadata": {},
   "outputs": [
    {
     "data": {
      "text/plain": [
       "(1093, 14, 1)"
      ]
     },
     "execution_count": 30,
     "metadata": {},
     "output_type": "execute_result"
    }
   ],
   "source": [
    "x_train.shape"
   ]
  },
  {
   "cell_type": "code",
   "execution_count": 31,
   "metadata": {},
   "outputs": [
    {
     "name": "stdout",
     "output_type": "stream",
     "text": [
      "(2, 7)\n",
      "1/1 [==============================] - 0s 321ms/step\n"
     ]
    }
   ],
   "source": [
    "yhat = model_prediction(model=model, x=train)"
   ]
  },
  {
   "cell_type": "code",
   "execution_count": 32,
   "metadata": {},
   "outputs": [
    {
     "data": {
      "text/plain": [
       "array([[[1719.361 ],\n",
       "        [1805.0228],\n",
       "        [1734.3751],\n",
       "        [1728.0159],\n",
       "        [1705.6224],\n",
       "        [1710.4314],\n",
       "        [1719.6549]]], dtype=float32)"
      ]
     },
     "execution_count": 32,
     "metadata": {},
     "output_type": "execute_result"
    }
   ],
   "source": [
    "yhat"
   ]
  },
  {
   "cell_type": "code",
   "execution_count": 33,
   "metadata": {},
   "outputs": [
    {
     "data": {
      "text/plain": [
       "(1, 7, 1)"
      ]
     },
     "execution_count": 33,
     "metadata": {},
     "output_type": "execute_result"
    }
   ],
   "source": [
    "yhat.shape"
   ]
  },
  {
   "cell_type": "code",
   "execution_count": 54,
   "metadata": {},
   "outputs": [],
   "source": [
    "def rmse_evaluation(actual: numpy, predicted: numpy):\n",
    "    scores = list()\n",
    "\n",
    "    for i in range(actual.shape[1]):\n",
    "        rmse = numpy.sqrt(mean_squared_error(actual[:, i], predicted[:, i]))\n",
    "        scores.append(rmse)\n",
    "    s = 0\n",
    "    for row in range(actual.shape[0]):\n",
    "        for col in range(actual.shape[1]):\n",
    "            s += (actual[row, col] - predicted[row, col])**2\n",
    "    score = numpy.sqrt(s/(actual.shape[0] * actual.shape[1]))\n",
    "    return score, scores\n",
    "\n",
    "def evaluate_model(model, train, test):\n",
    "    history = [obs for obs in train]\n",
    "    predictions = list()\n",
    "\n",
    "    for v in range(len(test)):\n",
    "        yhat = model_prediction(model=model, x=history)\n",
    "        predictions.append(yhat)\n",
    "        history.append(test[v, :])\n",
    "    predictions = numpy.array(predictions)\n",
    " \n",
    "    score, scores = rmse_evaluation(test[:,:,0], predictions)\n",
    "    return score, scores\n",
    "\n",
    "def sunnarize_scores(name, score, scores):\n",
    "    n_scores = \", \".join([\"%.1f\"%s for s in scores ])\n",
    "    print(\"%s: {%.3f} %s\" % (name, score, n_scores))\n",
    "\n",
    "def model_prediction(model, x: numpy, n_inputs=14):\n",
    "    data = numpy.array(x)\n",
    "    data = data.reshape((data.shape[0] * data.shape[1], data.shape[2]))\n",
    "\n",
    "    last_week = data[-n_inputs:,0]\n",
    "    last_week = last_week.reshape((1, len(last_week), 1))\n",
    "\n",
    "    yhat = model.predict(last_week, verbose=0)\n",
    "\n",
    "    return yhat[0]"
   ]
  },
  {
   "cell_type": "code",
   "execution_count": 55,
   "metadata": {},
   "outputs": [
    {
     "name": "stdout",
     "output_type": "stream",
     "text": [
      "LSTM: {384.396} 381.8, 424.7, 342.7, 380.7, 363.7, 347.5, 439.1\n"
     ]
    },
    {
     "data": {
      "image/png": "[encoded data removed]",
      "text/plain": [
       "<Figure size 640x480 with 1 Axes>"
      ]
     },
     "metadata": {},
     "output_type": "display_data"
    }
   ],
   "source": [
    "days = [\"Sunday\",\"Monday\", \"Tuesday\", \"Wednesday\", \"Thursday\", \"Friday\", \"Saturday\"]\n",
    "score, scores = evaluate_model(model=model, train=train, test=test)\n",
    "sunnarize_scores(\"LSTM\", score,scores)\n",
    "\n",
    "plt.plot(days, scores, marker='o', label=\"LSTM\")\n",
    "plt.legend()\n",
    "plt.show()"
   ]
  },
  {
   "cell_type": "code",
   "execution_count": null,
   "metadata": {},
   "outputs": [],
   "source": []
  }
 ],
 "metadata": {
  "kernelspec": {
   "display_name": "TF-py",
   "language": "python",
   "name": "python3"
  },
  "language_info": {
   "codemirror_mode": {
    "name": "ipython",
    "version": 3
   },
   "file_extension": ".py",
   "mimetype": "text/x-python",
   "name": "python",
   "nbconvert_exporter": "python",
   "pygments_lexer": "ipython3",
   "version": "3.7.15"
  },
  "orig_nbformat": 4,
  "vscode": {
   "interpreter": {
    "hash": "749162cd5602f8c6c87a32afb1ae029f0dd4a32c47c1829538a26e2b8908ffdd"
   }
  }
 },
 "nbformat": 4,
 "nbformat_minor": 2
}
