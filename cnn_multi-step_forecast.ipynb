{
 "cells": [
  {
   "cell_type": "code",
   "execution_count": 3,
   "metadata": {},
   "outputs": [],
   "source": [
    "import numpy\n",
    "import pandas as pd\n",
    "from sklearn.metrics import mean_squared_error\n",
    "from tensorflow import keras\n",
    "import matplotlib.pyplot as plt"
   ]
  },
  {
   "cell_type": "code",
   "execution_count": 4,
   "metadata": {},
   "outputs": [
    {
     "data": {
      "text/html": [
       "<div>\n",
       "<style scoped>\n",
       "    .dataframe tbody tr th:only-of-type {\n",
       "        vertical-align: middle;\n",
       "    }\n",
       "\n",
       "    .dataframe tbody tr th {\n",
       "        vertical-align: top;\n",
       "    }\n",
       "\n",
       "    .dataframe thead th {\n",
       "        text-align: right;\n",
       "    }\n",
       "</style>\n",
       "<table border=\"1\" class=\"dataframe\">\n",
       "  <thead>\n",
       "    <tr style=\"text-align: right;\">\n",
       "      <th></th>\n",
       "      <th>Global_active_power</th>\n",
       "      <th>Global_reactive_power</th>\n",
       "      <th>Voltage</th>\n",
       "      <th>Global_intensity</th>\n",
       "      <th>Sub_metering_1</th>\n",
       "      <th>Sub_metering_2</th>\n",
       "      <th>Sub_metering_3</th>\n",
       "      <th>Sub_metering_4</th>\n",
       "    </tr>\n",
       "    <tr>\n",
       "      <th>datetime</th>\n",
       "      <th></th>\n",
       "      <th></th>\n",
       "      <th></th>\n",
       "      <th></th>\n",
       "      <th></th>\n",
       "      <th></th>\n",
       "      <th></th>\n",
       "      <th></th>\n",
       "    </tr>\n",
       "  </thead>\n",
       "  <tbody>\n",
       "    <tr>\n",
       "      <th>2006-12-16</th>\n",
       "      <td>1209.176</td>\n",
       "      <td>34.922</td>\n",
       "      <td>93552.53</td>\n",
       "      <td>5180.8</td>\n",
       "      <td>0.0</td>\n",
       "      <td>546.0</td>\n",
       "      <td>4926.0</td>\n",
       "      <td>14680.934</td>\n",
       "    </tr>\n",
       "    <tr>\n",
       "      <th>2006-12-17</th>\n",
       "      <td>3390.460</td>\n",
       "      <td>226.006</td>\n",
       "      <td>345725.30</td>\n",
       "      <td>14398.6</td>\n",
       "      <td>2033.0</td>\n",
       "      <td>4187.0</td>\n",
       "      <td>13341.0</td>\n",
       "      <td>36946.668</td>\n",
       "    </tr>\n",
       "    <tr>\n",
       "      <th>2006-12-18</th>\n",
       "      <td>2203.826</td>\n",
       "      <td>161.792</td>\n",
       "      <td>347373.62</td>\n",
       "      <td>9247.2</td>\n",
       "      <td>1063.0</td>\n",
       "      <td>2621.0</td>\n",
       "      <td>14018.0</td>\n",
       "      <td>19028.434</td>\n",
       "    </tr>\n",
       "    <tr>\n",
       "      <th>2006-12-19</th>\n",
       "      <td>1666.194</td>\n",
       "      <td>150.942</td>\n",
       "      <td>348479.00</td>\n",
       "      <td>7094.0</td>\n",
       "      <td>839.0</td>\n",
       "      <td>7602.0</td>\n",
       "      <td>6197.0</td>\n",
       "      <td>13131.900</td>\n",
       "    </tr>\n",
       "    <tr>\n",
       "      <th>2006-12-20</th>\n",
       "      <td>2225.748</td>\n",
       "      <td>160.998</td>\n",
       "      <td>348923.62</td>\n",
       "      <td>9313.0</td>\n",
       "      <td>0.0</td>\n",
       "      <td>2648.0</td>\n",
       "      <td>14063.0</td>\n",
       "      <td>20384.800</td>\n",
       "    </tr>\n",
       "  </tbody>\n",
       "</table>\n",
       "</div>"
      ],
      "text/plain": [
       "            Global_active_power  Global_reactive_power    Voltage  \\\n",
       "datetime                                                            \n",
       "2006-12-16             1209.176                 34.922   93552.53   \n",
       "2006-12-17             3390.460                226.006  345725.30   \n",
       "2006-12-18             2203.826                161.792  347373.62   \n",
       "2006-12-19             1666.194                150.942  348479.00   \n",
       "2006-12-20             2225.748                160.998  348923.62   \n",
       "\n",
       "            Global_intensity  Sub_metering_1  Sub_metering_2  Sub_metering_3  \\\n",
       "datetime                                                                       \n",
       "2006-12-16            5180.8             0.0           546.0          4926.0   \n",
       "2006-12-17           14398.6          2033.0          4187.0         13341.0   \n",
       "2006-12-18            9247.2          1063.0          2621.0         14018.0   \n",
       "2006-12-19            7094.0           839.0          7602.0          6197.0   \n",
       "2006-12-20            9313.0             0.0          2648.0         14063.0   \n",
       "\n",
       "            Sub_metering_4  \n",
       "datetime                    \n",
       "2006-12-16       14680.934  \n",
       "2006-12-17       36946.668  \n",
       "2006-12-18       19028.434  \n",
       "2006-12-19       13131.900  \n",
       "2006-12-20       20384.800  "
      ]
     },
     "execution_count": 4,
     "metadata": {},
     "output_type": "execute_result"
    }
   ],
   "source": [
    "df = pd.read_csv(\"./data/household_power_consumption_daily.csv\", parse_dates=True, index_col=0)\n",
    "df.head()"
   ]
  },
  {
   "cell_type": "code",
   "execution_count": 5,
   "metadata": {},
   "outputs": [],
   "source": [
    "def split_data(data):\n",
    "    train, test = data[1: -328], data[-328:-6]\n",
    "    train = numpy.array(numpy.split(train, len(train)/7))\n",
    "    test = numpy.array(numpy.split(test, len(test)/7))\n",
    "    return train, test"
   ]
  },
  {
   "cell_type": "code",
   "execution_count": 6,
   "metadata": {},
   "outputs": [],
   "source": [
    "train, test = split_data(df.values)"
   ]
  },
  {
   "cell_type": "code",
   "execution_count": 7,
   "metadata": {},
   "outputs": [
    {
     "data": {
      "text/plain": [
       "(159, 7, 8)"
      ]
     },
     "execution_count": 7,
     "metadata": {},
     "output_type": "execute_result"
    }
   ],
   "source": [
    "train.shape"
   ]
  },
  {
   "cell_type": "code",
   "execution_count": 59,
   "metadata": {},
   "outputs": [],
   "source": [
    "def reshape_nn_input(X: numpy, n_input: int, n_output=7):\n",
    "    data = X.reshape((X.shape[0] * X.shape[1], X.shape[2]))\n",
    "    print(data.shape)\n",
    "    x, y = list(), list()\n",
    "\n",
    "    first_input = 0\n",
    "\n",
    "    for _ in range(len(data)):\n",
    "        last_input = first_input + n_input\n",
    "        last_output = last_input + n_output\n",
    "\n",
    "        if last_output <= len(data):\n",
    "            x_in = data[first_input:last_input, 0]\n",
    "            x_in = x_in.reshape(len(x_in), 1)\n",
    "            x.append(x_in)\n",
    "            y.append(data[last_input:last_output, 0])\n",
    "        first_input += 1\n",
    "    return numpy.array(x), numpy.array(y)\n"
   ]
  },
  {
   "cell_type": "code",
   "execution_count": 61,
   "metadata": {},
   "outputs": [
    {
     "name": "stdout",
     "output_type": "stream",
     "text": [
      "(1113, 8)\n"
     ]
    }
   ],
   "source": [
    "train_input, train_output = reshape_nn_input(train, 7)"
   ]
  },
  {
   "cell_type": "code",
   "execution_count": 62,
   "metadata": {},
   "outputs": [
    {
     "data": {
      "text/plain": [
       "((1100, 7, 1), (1100, 7))"
      ]
     },
     "execution_count": 62,
     "metadata": {},
     "output_type": "execute_result"
    }
   ],
   "source": [
    "train_input.shape, train_output.shape"
   ]
  },
  {
   "cell_type": "code",
   "execution_count": 64,
   "metadata": {},
   "outputs": [],
   "source": [
    "def conv_model(x: numpy, y: numpy):\n",
    "    timestamps, features, num_outputs = x.shape[1], x.shape[2], y.shape[-1]\n",
    "    model = keras.Sequential()\n",
    "    model.add(keras.layers.Conv1D(16, 5, activation='relu', input_shape=(timestamps, features)))\n",
    "    model.add(keras.layers.MaxPooling1D())\n",
    "    model.add(keras.layers.Flatten())\n",
    "    model.add(keras.layers.Dense(49, activation=keras.activations.relu))\n",
    "    model.add(keras.layers.Dense(num_outputs))\n",
    "\n",
    "    model.compile(\n",
    "        loss=keras.losses.mean_absolute_error,\n",
    "        optimizer=keras.optimizers.Adam()\n",
    "    )\n",
    "    history = model.fit(x, y, epochs=52, batch_size=5)\n",
    "    return history, model"
   ]
  },
  {
   "cell_type": "code",
   "execution_count": 65,
   "metadata": {},
   "outputs": [
    {
     "name": "stderr",
     "output_type": "stream",
     "text": [
      "2023-01-02 12:19:45.891791: W tensorflow/stream_executor/platform/default/dso_loader.cc:64] Could not load dynamic library 'libcuda.so.1'; dlerror: libcuda.so.1: cannot open shared object file: No such file or directory\n",
      "2023-01-02 12:19:45.894146: W tensorflow/stream_executor/cuda/cuda_driver.cc:263] failed call to cuInit: UNKNOWN ERROR (303)\n",
      "2023-01-02 12:19:45.896308: I tensorflow/stream_executor/cuda/cuda_diagnostics.cc:156] kernel driver does not appear to be running on this host (vhyne): /proc/driver/nvidia/version does not exist\n",
      "2023-01-02 12:19:45.902865: I tensorflow/core/platform/cpu_feature_guard.cc:193] This TensorFlow binary is optimized with oneAPI Deep Neural Network Library (oneDNN) to use the following CPU instructions in performance-critical operations:  AVX2 FMA\n",
      "To enable them in other operations, rebuild TensorFlow with the appropriate compiler flags.\n"
     ]
    },
    {
     "name": "stdout",
     "output_type": "stream",
     "text": [
      "Epoch 1/52\n",
      "220/220 [==============================] - 1s 2ms/step - loss: 586.9348\n",
      "Epoch 2/52\n",
      "220/220 [==============================] - 0s 2ms/step - loss: 391.8366\n",
      "Epoch 3/52\n",
      "220/220 [==============================] - 0s 2ms/step - loss: 388.2935\n",
      "Epoch 4/52\n",
      "220/220 [==============================] - 0s 2ms/step - loss: 384.4273\n",
      "Epoch 5/52\n",
      "220/220 [==============================] - 0s 2ms/step - loss: 382.9661\n",
      "Epoch 6/52\n",
      "220/220 [==============================] - 0s 1ms/step - loss: 381.8245\n",
      "Epoch 7/52\n",
      "220/220 [==============================] - 0s 1ms/step - loss: 381.4474\n",
      "Epoch 8/52\n",
      "220/220 [==============================] - 0s 1ms/step - loss: 380.5691\n",
      "Epoch 9/52\n",
      "220/220 [==============================] - 0s 1ms/step - loss: 378.7929\n",
      "Epoch 10/52\n",
      "220/220 [==============================] - 0s 1ms/step - loss: 378.0551\n",
      "Epoch 11/52\n",
      "220/220 [==============================] - 0s 1ms/step - loss: 375.5930\n",
      "Epoch 12/52\n",
      "220/220 [==============================] - 0s 1ms/step - loss: 375.0617\n",
      "Epoch 13/52\n",
      "220/220 [==============================] - 0s 1ms/step - loss: 373.7554\n",
      "Epoch 14/52\n",
      "220/220 [==============================] - 0s 1ms/step - loss: 373.7360\n",
      "Epoch 15/52\n",
      "220/220 [==============================] - 0s 1ms/step - loss: 372.2707\n",
      "Epoch 16/52\n",
      "220/220 [==============================] - 0s 1ms/step - loss: 371.5258\n",
      "Epoch 17/52\n",
      "220/220 [==============================] - 0s 1ms/step - loss: 370.9489\n",
      "Epoch 18/52\n",
      "220/220 [==============================] - 0s 1ms/step - loss: 369.1688\n",
      "Epoch 19/52\n",
      "220/220 [==============================] - 0s 1ms/step - loss: 370.3922\n",
      "Epoch 20/52\n",
      "220/220 [==============================] - 0s 1ms/step - loss: 369.7873\n",
      "Epoch 21/52\n",
      "220/220 [==============================] - 0s 1ms/step - loss: 369.2228\n",
      "Epoch 22/52\n",
      "220/220 [==============================] - 0s 1ms/step - loss: 368.4269\n",
      "Epoch 23/52\n",
      "220/220 [==============================] - 0s 1ms/step - loss: 368.1564\n",
      "Epoch 24/52\n",
      "220/220 [==============================] - 0s 1ms/step - loss: 366.8159\n",
      "Epoch 25/52\n",
      "220/220 [==============================] - 0s 1ms/step - loss: 366.8272\n",
      "Epoch 26/52\n",
      "220/220 [==============================] - 0s 1ms/step - loss: 366.7520\n",
      "Epoch 27/52\n",
      "220/220 [==============================] - 0s 1ms/step - loss: 367.4050\n",
      "Epoch 28/52\n",
      "220/220 [==============================] - 0s 1ms/step - loss: 366.6811\n",
      "Epoch 29/52\n",
      "220/220 [==============================] - 0s 1ms/step - loss: 365.8318\n",
      "Epoch 30/52\n",
      "220/220 [==============================] - 0s 1ms/step - loss: 367.5845\n",
      "Epoch 31/52\n",
      "220/220 [==============================] - 0s 1ms/step - loss: 365.8857\n",
      "Epoch 32/52\n",
      "220/220 [==============================] - 0s 1ms/step - loss: 365.4986\n",
      "Epoch 33/52\n",
      "220/220 [==============================] - 0s 1ms/step - loss: 365.6229\n",
      "Epoch 34/52\n",
      "220/220 [==============================] - 0s 1ms/step - loss: 365.2690\n",
      "Epoch 35/52\n",
      "220/220 [==============================] - 0s 1ms/step - loss: 364.2504\n",
      "Epoch 36/52\n",
      "220/220 [==============================] - 0s 1ms/step - loss: 363.6808\n",
      "Epoch 37/52\n",
      "220/220 [==============================] - 0s 1ms/step - loss: 363.3623\n",
      "Epoch 38/52\n",
      "220/220 [==============================] - 0s 1ms/step - loss: 364.4297\n",
      "Epoch 39/52\n",
      "220/220 [==============================] - 0s 1ms/step - loss: 366.3039\n",
      "Epoch 40/52\n",
      "220/220 [==============================] - 0s 1ms/step - loss: 365.3191\n",
      "Epoch 41/52\n",
      "220/220 [==============================] - 0s 1ms/step - loss: 363.5350\n",
      "Epoch 42/52\n",
      "220/220 [==============================] - 0s 1ms/step - loss: 364.3194\n",
      "Epoch 43/52\n",
      "220/220 [==============================] - 0s 1ms/step - loss: 363.3383\n",
      "Epoch 44/52\n",
      "220/220 [==============================] - 0s 1ms/step - loss: 363.8904\n",
      "Epoch 45/52\n",
      "220/220 [==============================] - 0s 1ms/step - loss: 363.7643\n",
      "Epoch 46/52\n",
      "220/220 [==============================] - 0s 1ms/step - loss: 362.9960\n",
      "Epoch 47/52\n",
      "220/220 [==============================] - 0s 1ms/step - loss: 364.0558\n",
      "Epoch 48/52\n",
      "220/220 [==============================] - 0s 1ms/step - loss: 362.4170\n",
      "Epoch 49/52\n",
      "220/220 [==============================] - 0s 1ms/step - loss: 362.1758\n",
      "Epoch 50/52\n",
      "220/220 [==============================] - 0s 1ms/step - loss: 362.1331\n",
      "Epoch 51/52\n",
      "220/220 [==============================] - 0s 1ms/step - loss: 361.8205\n",
      "Epoch 52/52\n",
      "220/220 [==============================] - 0s 1ms/step - loss: 363.7909\n"
     ]
    }
   ],
   "source": [
    "history, model = conv_model(train_input, train_output)"
   ]
  },
  {
   "cell_type": "code",
   "execution_count": 104,
   "metadata": {},
   "outputs": [],
   "source": [
    "def model_prediction(model, x: numpy, n_inputs=7):\n",
    "    # data = x.reshape((x.shape[0] * x.shape[1], x.shape[2]))\n",
    "    # print(data.shape)\n",
    "\n",
    "    last_week = x[-1][:,0]\n",
    "    print(last_week.shape)\n",
    "    last_week = last_week.reshape((1, len(last_week), 1))\n",
    "\n",
    "    yhat = model.predict(last_week, verbose=2)\n",
    "\n",
    "    return yhat"
   ]
  },
  {
   "cell_type": "code",
   "execution_count": 83,
   "metadata": {},
   "outputs": [
    {
     "data": {
      "text/plain": [
       "(1100, 7, 1)"
      ]
     },
     "execution_count": 83,
     "metadata": {},
     "output_type": "execute_result"
    }
   ],
   "source": [
    "train_input.shape"
   ]
  },
  {
   "cell_type": "code",
   "execution_count": 84,
   "metadata": {},
   "outputs": [
    {
     "data": {
      "text/plain": [
       "array([2195.452, 2094.098, 2047.968, 2451.11 , 2211.892, 1224.252,\n",
       "       1309.268])"
      ]
     },
     "execution_count": 84,
     "metadata": {},
     "output_type": "execute_result"
    }
   ],
   "source": [
    "train[-1][:, 0]"
   ]
  },
  {
   "cell_type": "code",
   "execution_count": 85,
   "metadata": {},
   "outputs": [
    {
     "name": "stdout",
     "output_type": "stream",
     "text": [
      "(7,)\n",
      "1/1 [==============================] - 0s 81ms/step\n"
     ]
    }
   ],
   "source": [
    "yhat = model_prediction(model=model, x=train)"
   ]
  },
  {
   "cell_type": "code",
   "execution_count": 86,
   "metadata": {},
   "outputs": [
    {
     "data": {
      "text/plain": [
       "array([[1928.2244, 1777.0726, 1777.4382, 2110.6697, 1923.015 , 1774.746 ,\n",
       "        1959.5951]], dtype=float32)"
      ]
     },
     "execution_count": 86,
     "metadata": {},
     "output_type": "execute_result"
    }
   ],
   "source": [
    "yhat"
   ]
  },
  {
   "cell_type": "code",
   "execution_count": 90,
   "metadata": {},
   "outputs": [],
   "source": [
    "def flatten_shape(array: numpy):\n",
    "    array_multiplication = array.shape[0] * array.shape[1]\n",
    "    return numpy.reshape(array, (array_multiplication,))"
   ]
  },
  {
   "cell_type": "code",
   "execution_count": 92,
   "metadata": {},
   "outputs": [],
   "source": [
    "yhat_values = flatten_shape(yhat)"
   ]
  },
  {
   "cell_type": "code",
   "execution_count": 95,
   "metadata": {},
   "outputs": [
    {
     "data": {
      "image/png": "[encoded data removed]",
      "text/plain": [
       "<Figure size 640x480 with 1 Axes>"
      ]
     },
     "metadata": {},
     "output_type": "display_data"
    }
   ],
   "source": [
    "plt.figure()\n",
    "plt.plot(yhat_values, label=\"Predicted\")\n",
    "plt.plot(test[0][:,0], label=\"Actual\")\n",
    "plt.title(\"CNN Prediction\")\n",
    "plt.legend()\n",
    "plt.show()"
   ]
  },
  {
   "cell_type": "code",
   "execution_count": 118,
   "metadata": {},
   "outputs": [],
   "source": [
    "def rmse_evaluation(actual: numpy, predicted: numpy):\n",
    "    scores = list()\n",
    "\n",
    "    for i in range(actual.shape[1]):\n",
    "        rmse = numpy.sqrt(mean_squared_error(actual[:, i], predicted[:, i]))\n",
    "        scores.append(rmse)\n",
    "    s = 0\n",
    "    for row in range(actual.shape[0]):\n",
    "        for col in range(actual.shape[1]):\n",
    "            s += (actual[row, col] - predicted[row, col])**2\n",
    "    score = numpy.sqrt(s/(actual.shape[0] * actual.shape[1]))\n",
    "    return score, scores\n",
    "\n",
    "def evaluate_model(model, train, test):\n",
    "    history = [obs for obs in train]\n",
    "    predictions = list()\n",
    "\n",
    "    for v in range(len(test)):\n",
    "        yhat = model_prediction(model=model, x=history)\n",
    "        predictions.append(yhat)\n",
    "        history.append(test[v, :])\n",
    "    predictions = numpy.array(predictions)\n",
    "    predictions = predictions.reshape((46,7))\n",
    "    # return predictions\n",
    "    score, scores = rmse_evaluation(test[:,:,0], predictions)\n",
    "    return score, scores\n",
    "\n",
    "def sunnarize_scores(name, score, scores):\n",
    "    n_scores = \", \".join([\"%.1f\"%s for s in scores ])\n",
    "    print(\"%s: {%.3f} %s\" % (name, score, n_scores))\n",
    "\n",
    "def model_prediction(model, x: numpy, n_inputs=7):\n",
    "    data = numpy.array(x)\n",
    "    data = data.reshape((data.shape[0] * data.shape[1], data.shape[2]))\n",
    "\n",
    "    last_week = x[-1][:,0]\n",
    "    last_week = last_week.reshape((1, len(last_week), 1))\n",
    "\n",
    "    yhat = model.predict(last_week, verbose=0)\n",
    "\n",
    "    return yhat"
   ]
  },
  {
   "cell_type": "code",
   "execution_count": 119,
   "metadata": {},
   "outputs": [
    {
     "name": "stdout",
     "output_type": "stream",
     "text": [
      "CNN: {399.192} 432.1, 399.2, 362.1, 372.4, 400.6, 320.5, 486.3\n"
     ]
    },
    {
     "data": {
      "image/png": "[encoded data removed]",
      "text/plain": [
       "<Figure size 640x480 with 1 Axes>"
      ]
     },
     "metadata": {},
     "output_type": "display_data"
    }
   ],
   "source": [
    "days = [\"Sunday\",\"Monday\", \"Tuesday\", \"Wednesday\", \"Thursday\", \"Friday\", \"Saturday\"]\n",
    "score, scores = evaluate_model(model=model, train=train, test=test)\n",
    "sunnarize_scores(\"CNN\", score,scores)\n",
    "\n",
    "plt.plot(days, scores, marker='o', label=\"CNN\")\n",
    "plt.legend()\n",
    "plt.show()"
   ]
  },
  {
   "cell_type": "code",
   "execution_count": null,
   "metadata": {},
   "outputs": [],
   "source": []
  }
 ],
 "metadata": {
  "kernelspec": {
   "display_name": "Python 3.7.15 ('TF-py')",
   "language": "python",
   "name": "python3"
  },
  "language_info": {
   "codemirror_mode": {
    "name": "ipython",
    "version": 3
   },
   "file_extension": ".py",
   "mimetype": "text/x-python",
   "name": "python",
   "nbconvert_exporter": "python",
   "pygments_lexer": "ipython3",
   "version": "3.7.15"
  },
  "orig_nbformat": 4,
  "vscode": {
   "interpreter": {
    "hash": "749162cd5602f8c6c87a32afb1ae029f0dd4a32c47c1829538a26e2b8908ffdd"
   }
  }
 },
 "nbformat": 4,
 "nbformat_minor": 2
}
