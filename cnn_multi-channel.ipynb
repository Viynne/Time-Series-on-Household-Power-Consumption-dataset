{
 "cells": [
  {
   "cell_type": "code",
   "execution_count": 2,
   "metadata": {},
   "outputs": [],
   "source": [
    "import numpy\n",
    "import pandas as pd\n",
    "from sklearn.metrics import mean_squared_error\n",
    "from tensorflow import keras\n",
    "import matplotlib.pyplot as plt\n",
    "from typing import Tuple, List"
   ]
  },
  {
   "cell_type": "code",
   "execution_count": 3,
   "metadata": {},
   "outputs": [
    {
     "data": {
      "text/html": [
       "<div>\n",
       "<style scoped>\n",
       "    .dataframe tbody tr th:only-of-type {\n",
       "        vertical-align: middle;\n",
       "    }\n",
       "\n",
       "    .dataframe tbody tr th {\n",
       "        vertical-align: top;\n",
       "    }\n",
       "\n",
       "    .dataframe thead th {\n",
       "        text-align: right;\n",
       "    }\n",
       "</style>\n",
       "<table border=\"1\" class=\"dataframe\">\n",
       "  <thead>\n",
       "    <tr style=\"text-align: right;\">\n",
       "      <th></th>\n",
       "      <th>Global_active_power</th>\n",
       "      <th>Global_reactive_power</th>\n",
       "      <th>Voltage</th>\n",
       "      <th>Global_intensity</th>\n",
       "      <th>Sub_metering_1</th>\n",
       "      <th>Sub_metering_2</th>\n",
       "      <th>Sub_metering_3</th>\n",
       "      <th>Sub_metering_4</th>\n",
       "    </tr>\n",
       "    <tr>\n",
       "      <th>datetime</th>\n",
       "      <th></th>\n",
       "      <th></th>\n",
       "      <th></th>\n",
       "      <th></th>\n",
       "      <th></th>\n",
       "      <th></th>\n",
       "      <th></th>\n",
       "      <th></th>\n",
       "    </tr>\n",
       "  </thead>\n",
       "  <tbody>\n",
       "    <tr>\n",
       "      <th>2006-12-16</th>\n",
       "      <td>1209.176</td>\n",
       "      <td>34.922</td>\n",
       "      <td>93552.53</td>\n",
       "      <td>5180.8</td>\n",
       "      <td>0.0</td>\n",
       "      <td>546.0</td>\n",
       "      <td>4926.0</td>\n",
       "      <td>14680.934</td>\n",
       "    </tr>\n",
       "    <tr>\n",
       "      <th>2006-12-17</th>\n",
       "      <td>3390.460</td>\n",
       "      <td>226.006</td>\n",
       "      <td>345725.30</td>\n",
       "      <td>14398.6</td>\n",
       "      <td>2033.0</td>\n",
       "      <td>4187.0</td>\n",
       "      <td>13341.0</td>\n",
       "      <td>36946.668</td>\n",
       "    </tr>\n",
       "    <tr>\n",
       "      <th>2006-12-18</th>\n",
       "      <td>2203.826</td>\n",
       "      <td>161.792</td>\n",
       "      <td>347373.62</td>\n",
       "      <td>9247.2</td>\n",
       "      <td>1063.0</td>\n",
       "      <td>2621.0</td>\n",
       "      <td>14018.0</td>\n",
       "      <td>19028.434</td>\n",
       "    </tr>\n",
       "    <tr>\n",
       "      <th>2006-12-19</th>\n",
       "      <td>1666.194</td>\n",
       "      <td>150.942</td>\n",
       "      <td>348479.00</td>\n",
       "      <td>7094.0</td>\n",
       "      <td>839.0</td>\n",
       "      <td>7602.0</td>\n",
       "      <td>6197.0</td>\n",
       "      <td>13131.900</td>\n",
       "    </tr>\n",
       "    <tr>\n",
       "      <th>2006-12-20</th>\n",
       "      <td>2225.748</td>\n",
       "      <td>160.998</td>\n",
       "      <td>348923.62</td>\n",
       "      <td>9313.0</td>\n",
       "      <td>0.0</td>\n",
       "      <td>2648.0</td>\n",
       "      <td>14063.0</td>\n",
       "      <td>20384.800</td>\n",
       "    </tr>\n",
       "  </tbody>\n",
       "</table>\n",
       "</div>"
      ],
      "text/plain": [
       "            Global_active_power  Global_reactive_power    Voltage  \\\n",
       "datetime                                                            \n",
       "2006-12-16             1209.176                 34.922   93552.53   \n",
       "2006-12-17             3390.460                226.006  345725.30   \n",
       "2006-12-18             2203.826                161.792  347373.62   \n",
       "2006-12-19             1666.194                150.942  348479.00   \n",
       "2006-12-20             2225.748                160.998  348923.62   \n",
       "\n",
       "            Global_intensity  Sub_metering_1  Sub_metering_2  Sub_metering_3  \\\n",
       "datetime                                                                       \n",
       "2006-12-16            5180.8             0.0           546.0          4926.0   \n",
       "2006-12-17           14398.6          2033.0          4187.0         13341.0   \n",
       "2006-12-18            9247.2          1063.0          2621.0         14018.0   \n",
       "2006-12-19            7094.0           839.0          7602.0          6197.0   \n",
       "2006-12-20            9313.0             0.0          2648.0         14063.0   \n",
       "\n",
       "            Sub_metering_4  \n",
       "datetime                    \n",
       "2006-12-16       14680.934  \n",
       "2006-12-17       36946.668  \n",
       "2006-12-18       19028.434  \n",
       "2006-12-19       13131.900  \n",
       "2006-12-20       20384.800  "
      ]
     },
     "execution_count": 3,
     "metadata": {},
     "output_type": "execute_result"
    }
   ],
   "source": [
    "df = pd.read_csv(\"./data/household_power_consumption_daily.csv\", parse_dates=True, index_col=0)\n",
    "df.head()"
   ]
  },
  {
   "cell_type": "code",
   "execution_count": 4,
   "metadata": {},
   "outputs": [],
   "source": [
    "def split_data(data: numpy) -> Tuple[numpy.array, numpy.array]:\n",
    "    train, test = data[1: -328], data[-328:-6]\n",
    "    train = numpy.array(numpy.split(train, len(train)/7))\n",
    "    test = numpy.array(numpy.split(test, len(test)/7))\n",
    "    return train, test"
   ]
  },
  {
   "cell_type": "code",
   "execution_count": 5,
   "metadata": {},
   "outputs": [],
   "source": [
    "train, test = split_data(df.values)"
   ]
  },
  {
   "cell_type": "code",
   "execution_count": 6,
   "metadata": {},
   "outputs": [],
   "source": [
    "def reshape_nn_input(x: numpy, n_input: int, n_output):\n",
    "    data = x.reshape((x.shape[0] * x.shape[1], x.shape[2]))\n",
    "    X, y = list(), list()\n",
    "    first_index = 0\n",
    "    for _ in range(len(data)):\n",
    "        in_len = first_index + n_input\n",
    "        target_len = in_len + n_output\n",
    "        if target_len <= len(data):\n",
    "            X.append(data[first_index:in_len, :])\n",
    "            y.append(data[in_len:target_len, 0])\n",
    "        first_index += 1\n",
    "    return numpy.array(X), numpy.array(y)"
   ]
  },
  {
   "cell_type": "code",
   "execution_count": 7,
   "metadata": {},
   "outputs": [
    {
     "data": {
      "text/plain": [
       "((1093, 14, 8), (1093, 7))"
      ]
     },
     "execution_count": 7,
     "metadata": {},
     "output_type": "execute_result"
    }
   ],
   "source": [
    "x_train, y_train = reshape_nn_input(x=train, n_input=14, n_output=7)\n",
    "x_train.shape, y_train.shape"
   ]
  },
  {
   "cell_type": "code",
   "execution_count": 69,
   "metadata": {},
   "outputs": [],
   "source": [
    "def conv_model(x: numpy, y: numpy):\n",
    "    timestamps, features, num_outputs = x.shape[1], x.shape[2], y.shape[1]\n",
    "    model = keras.Sequential()\n",
    "    model.add(keras.layers.Conv1D(32, 3, activation='relu', input_shape=(timestamps, features)))\n",
    "    model.add(keras.layers.Conv1D(32, 3, activation='relu'))\n",
    "    model.add(keras.layers.MaxPooling1D())\n",
    "    model.add(keras.layers.Conv1D(16, 3, activation='relu'))\n",
    "    model.add(keras.layers.MaxPooling1D())\n",
    "    model.add(keras.layers.Flatten())\n",
    "    model.add(keras.layers.Dense(50, activation=keras.activations.relu))\n",
    "    model.add(keras.layers.Dense(num_outputs))\n",
    "\n",
    "    model.compile(\n",
    "        loss=keras.losses.mean_absolute_error,\n",
    "        optimizer=keras.optimizers.Adam()\n",
    "    )\n",
    "    history = model.fit(x, y, epochs=70, batch_size=32, verbose=2)\n",
    "    return history, model"
   ]
  },
  {
   "cell_type": "code",
   "execution_count": 70,
   "metadata": {},
   "outputs": [
    {
     "name": "stdout",
     "output_type": "stream",
     "text": [
      "Epoch 1/70\n",
      "35/35 - 1s - loss: 4173.9229 - 780ms/epoch - 22ms/step\n",
      "Epoch 2/70\n",
      "35/35 - 0s - loss: 519.0687 - 94ms/epoch - 3ms/step\n",
      "Epoch 3/70\n",
      "35/35 - 0s - loss: 440.5217 - 90ms/epoch - 3ms/step\n",
      "Epoch 4/70\n",
      "35/35 - 0s - loss: 418.0145 - 92ms/epoch - 3ms/step\n",
      "Epoch 5/70\n",
      "35/35 - 0s - loss: 398.2742 - 89ms/epoch - 3ms/step\n",
      "Epoch 6/70\n",
      "35/35 - 0s - loss: 390.9323 - 83ms/epoch - 2ms/step\n",
      "Epoch 7/70\n",
      "35/35 - 0s - loss: 398.2495 - 87ms/epoch - 2ms/step\n",
      "Epoch 8/70\n",
      "35/35 - 0s - loss: 384.6633 - 106ms/epoch - 3ms/step\n",
      "Epoch 9/70\n",
      "35/35 - 0s - loss: 394.9676 - 86ms/epoch - 2ms/step\n",
      "Epoch 10/70\n",
      "35/35 - 0s - loss: 386.1475 - 85ms/epoch - 2ms/step\n",
      "Epoch 11/70\n",
      "35/35 - 0s - loss: 392.4054 - 85ms/epoch - 2ms/step\n",
      "Epoch 12/70\n",
      "35/35 - 0s - loss: 378.9425 - 89ms/epoch - 3ms/step\n",
      "Epoch 13/70\n",
      "35/35 - 0s - loss: 391.6038 - 82ms/epoch - 2ms/step\n",
      "Epoch 14/70\n",
      "35/35 - 0s - loss: 382.2378 - 76ms/epoch - 2ms/step\n",
      "Epoch 15/70\n",
      "35/35 - 0s - loss: 373.9608 - 81ms/epoch - 2ms/step\n",
      "Epoch 16/70\n",
      "35/35 - 0s - loss: 392.4336 - 77ms/epoch - 2ms/step\n",
      "Epoch 17/70\n",
      "35/35 - 0s - loss: 375.9456 - 80ms/epoch - 2ms/step\n",
      "Epoch 18/70\n",
      "35/35 - 0s - loss: 376.6522 - 77ms/epoch - 2ms/step\n",
      "Epoch 19/70\n",
      "35/35 - 0s - loss: 374.8682 - 68ms/epoch - 2ms/step\n",
      "Epoch 20/70\n",
      "35/35 - 0s - loss: 377.4413 - 69ms/epoch - 2ms/step\n",
      "Epoch 21/70\n",
      "35/35 - 0s - loss: 389.6243 - 70ms/epoch - 2ms/step\n",
      "Epoch 22/70\n",
      "35/35 - 0s - loss: 377.7340 - 71ms/epoch - 2ms/step\n",
      "Epoch 23/70\n",
      "35/35 - 0s - loss: 377.8812 - 96ms/epoch - 3ms/step\n",
      "Epoch 24/70\n",
      "35/35 - 0s - loss: 375.4822 - 114ms/epoch - 3ms/step\n",
      "Epoch 25/70\n",
      "35/35 - 0s - loss: 382.6545 - 104ms/epoch - 3ms/step\n",
      "Epoch 26/70\n",
      "35/35 - 0s - loss: 377.1620 - 101ms/epoch - 3ms/step\n",
      "Epoch 27/70\n",
      "35/35 - 0s - loss: 372.2222 - 97ms/epoch - 3ms/step\n",
      "Epoch 28/70\n",
      "35/35 - 0s - loss: 374.2968 - 94ms/epoch - 3ms/step\n",
      "Epoch 29/70\n",
      "35/35 - 0s - loss: 375.0804 - 92ms/epoch - 3ms/step\n",
      "Epoch 30/70\n",
      "35/35 - 0s - loss: 374.0315 - 95ms/epoch - 3ms/step\n",
      "Epoch 31/70\n",
      "35/35 - 0s - loss: 380.3789 - 91ms/epoch - 3ms/step\n",
      "Epoch 32/70\n",
      "35/35 - 0s - loss: 372.1918 - 92ms/epoch - 3ms/step\n",
      "Epoch 33/70\n",
      "35/35 - 0s - loss: 376.3767 - 92ms/epoch - 3ms/step\n",
      "Epoch 34/70\n",
      "35/35 - 0s - loss: 374.6500 - 94ms/epoch - 3ms/step\n",
      "Epoch 35/70\n",
      "35/35 - 0s - loss: 383.4404 - 92ms/epoch - 3ms/step\n",
      "Epoch 36/70\n",
      "35/35 - 0s - loss: 370.2953 - 91ms/epoch - 3ms/step\n",
      "Epoch 37/70\n",
      "35/35 - 0s - loss: 368.7858 - 94ms/epoch - 3ms/step\n",
      "Epoch 38/70\n",
      "35/35 - 0s - loss: 370.7667 - 87ms/epoch - 2ms/step\n",
      "Epoch 39/70\n",
      "35/35 - 0s - loss: 370.4256 - 85ms/epoch - 2ms/step\n",
      "Epoch 40/70\n",
      "35/35 - 0s - loss: 371.9701 - 88ms/epoch - 3ms/step\n",
      "Epoch 41/70\n",
      "35/35 - 0s - loss: 370.3768 - 86ms/epoch - 2ms/step\n",
      "Epoch 42/70\n",
      "35/35 - 0s - loss: 367.3492 - 73ms/epoch - 2ms/step\n",
      "Epoch 43/70\n",
      "35/35 - 0s - loss: 367.8263 - 62ms/epoch - 2ms/step\n",
      "Epoch 44/70\n",
      "35/35 - 0s - loss: 369.8008 - 69ms/epoch - 2ms/step\n",
      "Epoch 45/70\n",
      "35/35 - 0s - loss: 371.1353 - 65ms/epoch - 2ms/step\n",
      "Epoch 46/70\n",
      "35/35 - 0s - loss: 366.8579 - 63ms/epoch - 2ms/step\n",
      "Epoch 47/70\n",
      "35/35 - 0s - loss: 368.6759 - 66ms/epoch - 2ms/step\n",
      "Epoch 48/70\n",
      "35/35 - 0s - loss: 366.9358 - 62ms/epoch - 2ms/step\n",
      "Epoch 49/70\n",
      "35/35 - 0s - loss: 369.1066 - 81ms/epoch - 2ms/step\n",
      "Epoch 50/70\n",
      "35/35 - 0s - loss: 370.1881 - 68ms/epoch - 2ms/step\n",
      "Epoch 51/70\n",
      "35/35 - 0s - loss: 370.8268 - 71ms/epoch - 2ms/step\n",
      "Epoch 52/70\n",
      "35/35 - 0s - loss: 382.9146 - 63ms/epoch - 2ms/step\n",
      "Epoch 53/70\n",
      "35/35 - 0s - loss: 373.3718 - 63ms/epoch - 2ms/step\n",
      "Epoch 54/70\n",
      "35/35 - 0s - loss: 372.5818 - 106ms/epoch - 3ms/step\n",
      "Epoch 55/70\n",
      "35/35 - 0s - loss: 370.4159 - 79ms/epoch - 2ms/step\n",
      "Epoch 56/70\n",
      "35/35 - 0s - loss: 370.6437 - 68ms/epoch - 2ms/step\n",
      "Epoch 57/70\n",
      "35/35 - 0s - loss: 382.5445 - 69ms/epoch - 2ms/step\n",
      "Epoch 58/70\n",
      "35/35 - 0s - loss: 365.5614 - 69ms/epoch - 2ms/step\n",
      "Epoch 59/70\n",
      "35/35 - 0s - loss: 370.8416 - 69ms/epoch - 2ms/step\n",
      "Epoch 60/70\n",
      "35/35 - 0s - loss: 367.0776 - 67ms/epoch - 2ms/step\n",
      "Epoch 61/70\n",
      "35/35 - 0s - loss: 374.0059 - 68ms/epoch - 2ms/step\n",
      "Epoch 62/70\n",
      "35/35 - 0s - loss: 369.5733 - 66ms/epoch - 2ms/step\n",
      "Epoch 63/70\n",
      "35/35 - 0s - loss: 362.8757 - 65ms/epoch - 2ms/step\n",
      "Epoch 64/70\n",
      "35/35 - 0s - loss: 367.8470 - 67ms/epoch - 2ms/step\n",
      "Epoch 65/70\n",
      "35/35 - 0s - loss: 371.8980 - 69ms/epoch - 2ms/step\n",
      "Epoch 66/70\n",
      "35/35 - 0s - loss: 374.0759 - 69ms/epoch - 2ms/step\n",
      "Epoch 67/70\n",
      "35/35 - 0s - loss: 368.4256 - 69ms/epoch - 2ms/step\n",
      "Epoch 68/70\n",
      "35/35 - 0s - loss: 374.7520 - 70ms/epoch - 2ms/step\n",
      "Epoch 69/70\n",
      "35/35 - 0s - loss: 368.0256 - 67ms/epoch - 2ms/step\n",
      "Epoch 70/70\n",
      "35/35 - 0s - loss: 365.5887 - 68ms/epoch - 2ms/step\n"
     ]
    }
   ],
   "source": [
    "history, model = conv_model(x_train, y_train)"
   ]
  },
  {
   "cell_type": "code",
   "execution_count": 71,
   "metadata": {},
   "outputs": [],
   "source": [
    "def model_prediction(model, x: numpy, n_inputs=7):\n",
    "    # data = x.reshape((x.shape[0] * x.shape[1], x.shape[2]))\n",
    "    # print(data.shape)\n",
    "\n",
    "    last_week = x[-2:][:,:]\n",
    "    print(last_week.shape)\n",
    "    last_week = last_week.reshape((1, last_week.shape[0] * last_week.shape[1], last_week.shape[-1]))\n",
    "\n",
    "    yhat = model.predict(last_week, verbose=1)\n",
    "\n",
    "    return yhat"
   ]
  },
  {
   "cell_type": "code",
   "execution_count": 72,
   "metadata": {},
   "outputs": [
    {
     "data": {
      "text/plain": [
       "(2, 7, 8)"
      ]
     },
     "execution_count": 72,
     "metadata": {},
     "output_type": "execute_result"
    }
   ],
   "source": [
    "train[-2:][:,:].shape"
   ]
  },
  {
   "cell_type": "code",
   "execution_count": 73,
   "metadata": {},
   "outputs": [
    {
     "name": "stdout",
     "output_type": "stream",
     "text": [
      "(2, 7, 8)\n",
      "1/1 [==============================] - 0s 108ms/step\n"
     ]
    }
   ],
   "source": [
    "yhat = model_prediction(model=model, x=train)"
   ]
  },
  {
   "cell_type": "code",
   "execution_count": 74,
   "metadata": {},
   "outputs": [
    {
     "data": {
      "text/plain": [
       "array([[1829.6663, 1684.7067, 1790.8286, 1759.2418, 1770.0956, 1633.162 ,\n",
       "        1811.9761]], dtype=float32)"
      ]
     },
     "execution_count": 74,
     "metadata": {},
     "output_type": "execute_result"
    }
   ],
   "source": [
    "yhat"
   ]
  },
  {
   "cell_type": "code",
   "execution_count": 75,
   "metadata": {},
   "outputs": [],
   "source": [
    "def flatten_shape(array: numpy):\n",
    "    array_multiplication = array.shape[0] * array.shape[1]\n",
    "    return numpy.reshape(array, (array_multiplication,))"
   ]
  },
  {
   "cell_type": "code",
   "execution_count": 76,
   "metadata": {},
   "outputs": [],
   "source": [
    "yhat_values = flatten_shape(yhat)"
   ]
  },
  {
   "cell_type": "code",
   "execution_count": 77,
   "metadata": {},
   "outputs": [
    {
     "data": {
      "image/png": "[encoded data removed]",
      "text/plain": [
       "<Figure size 640x480 with 1 Axes>"
      ]
     },
     "metadata": {},
     "output_type": "display_data"
    }
   ],
   "source": [
    "plt.figure()\n",
    "plt.plot(yhat_values, label=\"Predicted\")\n",
    "plt.plot(test[0][:,0], label=\"Actual\")\n",
    "plt.title(\"CNN Prediction\")\n",
    "plt.legend()\n",
    "plt.show()"
   ]
  },
  {
   "cell_type": "code",
   "execution_count": 78,
   "metadata": {},
   "outputs": [],
   "source": [
    "def rmse_evaluation(actual: numpy, predicted: numpy):\n",
    "    scores = list()\n",
    "\n",
    "    for i in range(actual.shape[1]):\n",
    "        rmse = numpy.sqrt(mean_squared_error(actual[:, i], predicted[:, i]))\n",
    "        scores.append(rmse)\n",
    "    s = 0\n",
    "    for row in range(actual.shape[0]):\n",
    "        for col in range(actual.shape[1]):\n",
    "            s += (actual[row, col] - predicted[row, col])**2\n",
    "    score = numpy.sqrt(s/(actual.shape[0] * actual.shape[1]))\n",
    "    return score, scores\n",
    "\n",
    "def evaluate_model(model, train, test):\n",
    "    history = [obs for obs in train]\n",
    "    predictions = list()\n",
    "\n",
    "    for v in range(len(test)):\n",
    "        yhat = model_prediction(model=model, x=history)\n",
    "        predictions.append(yhat)\n",
    "        history.append(test[v, :])\n",
    "    predictions = numpy.array(predictions)\n",
    "    predictions = predictions.reshape((46,7))\n",
    "    # return predictions\n",
    "    score, scores = rmse_evaluation(test[:,:,0], predictions)\n",
    "    return score, scores\n",
    "\n",
    "def sunnarize_scores(name, score, scores):\n",
    "    n_scores = \", \".join([\"%.1f\"%s for s in scores ])\n",
    "    print(\"%s: {%.3f} %s\" % (name, score, n_scores))\n",
    "\n",
    "def model_prediction(model, x: numpy, n_inputs=7):\n",
    "    data = numpy.array(x)\n",
    "    # data = data.reshape((data.shape[0] * data.shape[1], data.shape[2]))\n",
    "\n",
    "    last_week = data[-2:][:,:]\n",
    "    last_week = last_week.reshape((1, last_week.shape[0] * last_week.shape[1], last_week.shape[-1]))\n",
    "    # last_week = last_week.reshape((1, len(last_week), 8))\n",
    "\n",
    "    yhat = model.predict(last_week, verbose=0)\n",
    "\n",
    "    return yhat"
   ]
  },
  {
   "cell_type": "code",
   "execution_count": 79,
   "metadata": {},
   "outputs": [
    {
     "name": "stdout",
     "output_type": "stream",
     "text": [
      "CNN: {381.251} 378.1, 383.3, 351.0, 401.4, 345.8, 317.9, 471.9\n"
     ]
    },
    {
     "data": {
      "image/png": "[encoded data removed]",
      "text/plain": [
       "<Figure size 640x480 with 1 Axes>"
      ]
     },
     "metadata": {},
     "output_type": "display_data"
    }
   ],
   "source": [
    "days = [\"Sunday\",\"Monday\", \"Tuesday\", \"Wednesday\", \"Thursday\", \"Friday\", \"Saturday\"]\n",
    "score, scores = evaluate_model(model=model, train=train, test=test)\n",
    "sunnarize_scores(\"CNN\", score,scores)\n",
    "\n",
    "plt.plot(days, scores, marker='o', label=\"CNN\")\n",
    "plt.legend()\n",
    "plt.show()"
   ]
  },
  {
   "cell_type": "code",
   "execution_count": null,
   "metadata": {},
   "outputs": [],
   "source": []
  }
 ],
 "metadata": {
  "kernelspec": {
   "display_name": "Python 3.7.15 ('TF-py')",
   "language": "python",
   "name": "python3"
  },
  "language_info": {
   "codemirror_mode": {
    "name": "ipython",
    "version": 3
   },
   "file_extension": ".py",
   "mimetype": "text/x-python",
   "name": "python",
   "nbconvert_exporter": "python",
   "pygments_lexer": "ipython3",
   "version": "3.7.15"
  },
  "orig_nbformat": 4,
  "vscode": {
   "interpreter": {
    "hash": "749162cd5602f8c6c87a32afb1ae029f0dd4a32c47c1829538a26e2b8908ffdd"
   }
  }
 },
 "nbformat": 4,
 "nbformat_minor": 2
}
